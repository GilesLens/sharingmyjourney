{
 "cells": [
  {
   "cell_type": "markdown",
   "metadata": {},
   "source": [
    "\n",
    "# U.S. Medical Insurance Costs"
   ]
  },
  {
   "cell_type": "markdown",
   "metadata": {},
   "source": [
    "In this project, the goal is to analyze a csv file titled 'insurance.csv' in order to find out certain patterns inside the data. The objectives of the analysis of this data is to see how different parameters can affect charges (insurance cost) of people. Several outputs will be shown, such as:\n",
    "1. Finding out how regions can affect charges of insurance\n",
    "2. How regions affect number of children and correlation to charges\n",
    "3. How regions affect smoking status, and their correlation\n",
    "4. How all the variables correlate to result in the insurance costs"
   ]
  },
  {
   "cell_type": "code",
   "execution_count": 75,
   "metadata": {},
   "outputs": [],
   "source": [
    "#Import da shit here\n",
    "import csv \n",
    "import pandas as pd\n",
    "import numpy as np\n",
    "from sklearn import linear_model"
   ]
  },
  {
   "cell_type": "code",
   "execution_count": 100,
   "metadata": {},
   "outputs": [
    {
     "name": "stdout",
     "output_type": "stream",
     "text": [
      "      age     sex     bmi  children smoker     region      charges\n",
      "0      19  female  27.900         0    yes  southwest  16884.92400\n",
      "1      18    male  33.770         1     no  southeast   1725.55230\n",
      "2      28    male  33.000         3     no  southeast   4449.46200\n",
      "3      33    male  22.705         0     no  northwest  21984.47061\n",
      "4      32    male  28.880         0     no  northwest   3866.85520\n",
      "...   ...     ...     ...       ...    ...        ...          ...\n",
      "1333   50    male  30.970         3     no  northwest  10600.54830\n",
      "1334   18  female  31.920         0     no  northeast   2205.98080\n",
      "1335   18  female  36.850         0     no  southeast   1629.83350\n",
      "1336   21  female  25.800         0     no  southwest   2007.94500\n",
      "1337   61  female  29.070         0    yes  northwest  29141.36030\n",
      "\n",
      "[1338 rows x 7 columns]\n"
     ]
    }
   ],
   "source": [
    "#Check Data\n",
    "with open('insurance.csv') as insurance_data:\n",
    "    insurance = pd.read_csv('insurance.csv')\n",
    "\n",
    "print(insurance)"
   ]
  },
  {
   "cell_type": "markdown",
   "metadata": {},
   "source": [
    "Before we find the different analysis and evaluations from our data, we first need to manage and sort our data accordingly in an orderly manner:"
   ]
  },
  {
   "cell_type": "code",
   "execution_count": 77,
   "metadata": {},
   "outputs": [],
   "source": [
    "#For region and insurance\n",
    "RandI = insurance[[\"region\", \"charges\"]]"
   ]
  },
  {
   "cell_type": "code",
   "execution_count": 78,
   "metadata": {},
   "outputs": [],
   "source": [
    "#For region and children\n",
    "RandC = insurance[[\"region\", \"children\"]]"
   ]
  },
  {
   "cell_type": "code",
   "execution_count": 79,
   "metadata": {},
   "outputs": [],
   "source": [
    "#For smoker status and region\n",
    "RandS = insurance[[\"region\", \"smoker\"]]"
   ]
  },
  {
   "cell_type": "markdown",
   "metadata": {},
   "source": [
    "#### 1st Problem: How different regions affect insurance costs."
   ]
  },
  {
   "cell_type": "code",
   "execution_count": 80,
   "metadata": {},
   "outputs": [
    {
     "name": "stdout",
     "output_type": "stream",
     "text": [
      "['southwest', 'southeast', 'northwest', 'northeast']\n"
     ]
    }
   ],
   "source": [
    "#We first find the total unique locations of the dataset\n",
    "UniqueLocations = list(insurance[\"region\"].unique())\n",
    "print(UniqueLocations)"
   ]
  },
  {
   "cell_type": "code",
   "execution_count": 81,
   "metadata": {},
   "outputs": [],
   "source": [
    "#We can then allocate each unique value with their own datasets\n",
    "SW = RandI.loc[RandI[\"region\"] == \"southwest\", \"charges\"]\n",
    "SE = RandI.loc[RandI[\"region\"] == \"southeast\", \"charges\"]\n",
    "NW = RandI.loc[RandI[\"region\"] == \"northwest\", \"charges\"]\n",
    "NE = RandI.loc[RandI[\"region\"] == \"northeast\", \"charges\"]"
   ]
  },
  {
   "cell_type": "code",
   "execution_count": 82,
   "metadata": {},
   "outputs": [],
   "source": [
    "#We can then find the average for each of these values \n",
    "SW_avg = round(SW.sum()/len(SW), 2)\n",
    "SE_avg = round(SE.sum()/len(SE), 2)\n",
    "NW_avg = round(NW.sum()/len(NW), 2)\n",
    "NE_avg = round(NE.sum()/len(NE), 2)"
   ]
  },
  {
   "cell_type": "code",
   "execution_count": 83,
   "metadata": {},
   "outputs": [
    {
     "name": "stdout",
     "output_type": "stream",
     "text": [
      "[{'Region': 'Southeast', 'Average': 14735.41}, {'Region': 'Northeast', 'Average': 13406.38}, {'Region': 'Northwest', 'Average': 12417.58}, {'Region': 'Southwest', 'Average': 12346.94}]\n"
     ]
    }
   ],
   "source": [
    "#Turning to a dictionary:\n",
    "average_cost = [{\"Region\": \"Southwest\", \"Average\": SW_avg}, \n",
    "                {\"Region\": \"Southeast\", \"Average\": SE_avg}, \n",
    "                {\"Region\": \"Northwest\", \"Average\": NW_avg},\n",
    "                {\"Region\": \"Northeast\", \"Average\": NE_avg},\n",
    "]\n",
    "\n",
    "def get_money(average_cost):\n",
    "    return average_cost.get(\"Average\")\n",
    "\n",
    "average_cost.sort(key=get_money, reverse=True)\n",
    "print(average_cost)"
   ]
  },
  {
   "cell_type": "markdown",
   "metadata": {},
   "source": [
    "Therefore, we can see that based on the region, the Southeast has the highest cost when it comes to insurance, while living in the Southwest has the lowest cost in terms of insurance. In order to get the conclusion, we first have to see other variables, however. "
   ]
  },
  {
   "cell_type": "markdown",
   "metadata": {},
   "source": [
    "#### 2nd Problem: How regions affect number of children and correlation to charges"
   ]
  },
  {
   "cell_type": "code",
   "execution_count": 84,
   "metadata": {},
   "outputs": [],
   "source": [
    "# Since we already know the different unique locations of the dataset, we can focus on the average no. of children\n",
    "SW_C = RandC.loc[RandC[\"region\"] == \"southwest\", \"children\"]\n",
    "SE_C = RandC.loc[RandC[\"region\"] == \"southeast\", \"children\"]\n",
    "NW_C = RandC.loc[RandC[\"region\"] == \"northwest\", \"children\"]\n",
    "NE_C = RandC.loc[RandC[\"region\"] == \"northeast\", \"children\"]"
   ]
  },
  {
   "cell_type": "code",
   "execution_count": 85,
   "metadata": {},
   "outputs": [
    {
     "name": "stdout",
     "output_type": "stream",
     "text": [
      "1.14 1.05 1.15 1.05\n"
     ]
    }
   ],
   "source": [
    "SW_C_avg = round(SW_C.sum()/len(SW_C), 2)\n",
    "SE_C_avg = round(SE_C.sum()/len(SE_C), 2)\n",
    "NW_C_avg = round(NW_C.sum()/len(NW_C), 2)\n",
    "NE_C_avg = round(NE_C.sum()/len(NE_C), 2)\n",
    "print(SW_C_avg, SE_C_avg, NW_C_avg, NE_C_avg)"
   ]
  },
  {
   "cell_type": "markdown",
   "metadata": {},
   "source": [
    "As we can see, there are different values of average children of each regions. However, if we want to accurately get a better description of the correlation between region, children and insurance values, we need to creat a regression model. To do so, we can do the following:"
   ]
  },
  {
   "cell_type": "code",
   "execution_count": 86,
   "metadata": {},
   "outputs": [],
   "source": [
    "# Putting the different columns in a new dataframe\n",
    "RIC = insurance[[\"region\", \"children\", \"charges\"]]"
   ]
  },
  {
   "cell_type": "code",
   "execution_count": 93,
   "metadata": {},
   "outputs": [],
   "source": [
    "# Replace each value of the column\n",
    "RIC[\"region\"].replace(to_replace = {\"southwest\": 1, \"southeast\": 2, \"northwest\": 3, \"northeast\": 4}, inplace=True)"
   ]
  },
  {
   "cell_type": "code",
   "execution_count": 99,
   "metadata": {},
   "outputs": [
    {
     "name": "stdout",
     "output_type": "stream",
     "text": [
      "80.41602393563173\n",
      "684.3106281072279\n"
     ]
    }
   ],
   "source": [
    "# Creating the linear regression model\n",
    "X = RIC[[\"region\", \"children\"]]\n",
    "y = RIC[\"charges\"]\n",
    "\n",
    "RIC_regr = linear_model.LinearRegression()\n",
    "RIC_regr.fit(X,y)\n",
    "\n",
    "region_weight = RIC_regr.coef_[0]\n",
    "children_weight = RIC_regr.coef_[1]\n",
    "\n",
    "print(region_weight)\n",
    "print(children_weight)"
   ]
  },
  {
   "cell_type": "markdown",
   "metadata": {},
   "source": [
    "Based on our model of using both region and number of children, we can see that region has a a lower value than the impact of children towards the value of the insurance. This could be due to the fact that in comparison to the location of the specific person, having a children puts a bigger burden on the cost of insurance due to many basic needs, as well as an increase of consumption due to more mouths to feed. "
   ]
  },
  {
   "cell_type": "markdown",
   "metadata": {},
   "source": [
    "#### 3rd problem: Correlation of smoking to region as well as value"
   ]
  },
  {
   "cell_type": "code",
   "execution_count": 103,
   "metadata": {},
   "outputs": [],
   "source": [
    "# We can then find the correlation of smoker to the region\n",
    "RandS[\"smoker\"].replace(to_replace = {\"no\": 0, \"yes\": 1}, inplace=True)\n",
    "\n",
    "\n",
    "SW_S = RandS.loc[RandS[\"region\"] == \"southwest\", \"smoker\"]\n",
    "SE_S = RandS.loc[RandS[\"region\"] == \"southeast\", \"smoker\"]\n",
    "NW_S = RandS.loc[RandS[\"region\"] == \"northwest\", \"smoker\"]\n",
    "NE_S = RandS.loc[RandS[\"region\"] == \"northeast\", \"smoker\"]"
   ]
  },
  {
   "cell_type": "code",
   "execution_count": 104,
   "metadata": {},
   "outputs": [
    {
     "name": "stdout",
     "output_type": "stream",
     "text": [
      "0.18 0.25 0.18 0.21\n"
     ]
    }
   ],
   "source": [
    "# Finding the average amount of people for each region\n",
    "SW_S_avg = round(SW_S.sum()/len(SW_S), 2)\n",
    "SE_S_avg = round(SE_S.sum()/len(SE_S), 2)\n",
    "NW_S_avg = round(NW_S.sum()/len(NW_S), 2)\n",
    "NE_S_avg = round(NE_S.sum()/len(NE_S), 2)\n",
    "print(SW_S_avg, SE_S_avg, NW_S_avg, NE_S_avg)"
   ]
  },
  {
   "cell_type": "markdown",
   "metadata": {},
   "source": [
    "From the averages above, we can see that different locations have different amounts of smokers, with being living in the southeast region having the most amount of smokers. We can see that there are some correlation between being a smoker and living in a place. However, if we try to see it in the scope of insurance cost, we need to apply multivariable linear regression "
   ]
  },
  {
   "cell_type": "code",
   "execution_count": 106,
   "metadata": {},
   "outputs": [
    {
     "name": "stdout",
     "output_type": "stream",
     "text": [
      "49.22888378068346\n",
      "23615.669716591332\n"
     ]
    }
   ],
   "source": [
    "# Putting the different columns in a new dataframe\n",
    "RIS = insurance[[\"region\", \"charges\", \"smoker\"]]\n",
    "\n",
    "# Replacing the values of region and smoker:\n",
    "RIS[\"region\"].replace(to_replace = {\"southwest\": 1, \"southeast\": 2, \"northwest\": 3, \"northeast\": 4}, inplace=True)\n",
    "RIS[\"smoker\"].replace(to_replace = {\"no\": 0, \"yes\": 1}, inplace=True)\n",
    "\n",
    "# Linear regression model:\n",
    "X1 = RIS[[\"region\", \"smoker\"]]\n",
    "y1 = RIS[\"charges\"]\n",
    "\n",
    "RIS_regr = linear_model.LinearRegression()\n",
    "RIS_regr.fit(X1,y1)\n",
    "\n",
    "region_weight = RIS_regr.coef_[0]\n",
    "smoker_weight = RIS_regr.coef_[1]\n",
    "\n",
    "print(region_weight)\n",
    "print(smoker_weight)"
   ]
  },
  {
   "cell_type": "markdown",
   "metadata": {},
   "source": [
    "Based on the result, we can see that being a smoker affects your insurance cost by a whopping value that is much more than the weight of the region. Therefore, compared to region, being a smoker affects the insurance cost due to higher medical bills, as well as a greater chance of death. Therefore, for smokers particularly, it might be a bad thing to continue the status. "
   ]
  },
  {
   "cell_type": "markdown",
   "metadata": {},
   "source": [
    "#### 4th problem: How does all the parameters correlate to one another? "
   ]
  },
  {
   "cell_type": "code",
   "execution_count": 108,
   "metadata": {},
   "outputs": [],
   "source": [
    "# First, we need to replace the values of string to an integer number\n",
    "insurance[\"region\"].replace(to_replace = {\"southwest\": 1, \"southeast\": 2, \"northwest\": 3, \"northeast\": 4}, inplace=True)\n",
    "insurance[\"smoker\"].replace(to_replace = {\"no\": 0, \"yes\": 1}, inplace=True)\n",
    "insurance[\"sex\"].replace(to_replace = {\"male\": 1, \"female\": 2}, inplace=True)\n",
    "\n",
    "# We then can set the X and y values:\n",
    "X_final = insurance.drop([\"charges\"], axis=1)\n",
    "y_final = insurance[\"charges\"]"
   ]
  },
  {
   "cell_type": "code",
   "execution_count": 109,
   "metadata": {},
   "outputs": [
    {
     "name": "stdout",
     "output_type": "stream",
     "text": [
      "[  257.28807486   131.11057962   332.57013224   479.36939355\n",
      " 23820.43412267   353.64001656]\n"
     ]
    }
   ],
   "source": [
    "# Applying linear regression model from SKlearn\n",
    "insurance_regr = linear_model.LinearRegression()\n",
    "insurance_regr.fit(X_final,y_final)\n",
    "\n",
    "print(insurance_regr.coef_)"
   ]
  },
  {
   "cell_type": "code",
   "execution_count": 110,
   "metadata": {},
   "outputs": [
    {
     "name": "stdout",
     "output_type": "stream",
     "text": [
      "257.2880748580624 131.11057962208807 332.57013224229644 479.36939354512776 23820.434122672934 353.6400165588391\n"
     ]
    }
   ],
   "source": [
    "# Assigning each weightings:\n",
    "age_w = insurance_regr.coef_[0]\n",
    "sex_w = insurance_regr.coef_[1]\n",
    "bmi_w = insurance_regr.coef_[2]\n",
    "chi_w = insurance_regr.coef_[3]\n",
    "smo_w = insurance_regr.coef_[4]\n",
    "reg_w = insurance_regr.coef_[5]\n",
    "\n",
    "print(age_w, sex_w, bmi_w, chi_w, smo_w, reg_w)"
   ]
  },
  {
   "cell_type": "code",
   "execution_count": 111,
   "metadata": {},
   "outputs": [
    {
     "name": "stdout",
     "output_type": "stream",
     "text": [
      "0.7507372027994937\n"
     ]
    }
   ],
   "source": [
    "# Checking the accuracy of the model \n",
    "print(insurance_regr.score(X_final, y_final))"
   ]
  },
  {
   "cell_type": "markdown",
   "metadata": {},
   "source": [
    "Based on the results of the coefficient above, we can say that different parameters from the data provided have different weights. However, based on the R^2 value above, we can safely say that the model is quite inaccurate, as there are some correlation, but not a strong one. Nevertheless, some conclusions we can draw from this data analysis is that being a smoker affects insurance costs by a whole margin compared to other variables. This can be due to the direct impact smoking has to the health of the person Another conclusion we can draw is that having a different sex doesn't necessarily mean that insurance costs will be higher. However, if there are no correlations between sexes, it means that insurance costs should be equal to one another (weighting of being closer to 0). This shows that there is still some levels of difference betwen the insurance costs of male and female, and supports the fact that some inequality between gender still exists. Other than those two prominent conclusions, this is the end of this data analysis."
   ]
  },
  {
   "cell_type": "markdown",
   "metadata": {},
   "source": [
    "# Thank you for reading the file ＜（＾－＾）＞"
   ]
  }
 ],
 "metadata": {
  "kernelspec": {
   "display_name": "Python 3",
   "language": "python",
   "name": "python3"
  },
  "language_info": {
   "codemirror_mode": {
    "name": "ipython",
    "version": 3
   },
   "file_extension": ".py",
   "mimetype": "text/x-python",
   "name": "python",
   "nbconvert_exporter": "python",
   "pygments_lexer": "ipython3",
   "version": "3.8.8"
  }
 },
 "nbformat": 4,
 "nbformat_minor": 4
}
